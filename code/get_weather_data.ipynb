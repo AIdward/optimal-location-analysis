{
 "cells": [
  {
   "cell_type": "markdown",
   "metadata": {},
   "source": [
    "# 기상청 기상관측 데이터 크롤링"
   ]
  },
  {
   "cell_type": "markdown",
   "metadata": {},
   "source": [
    "기상청_지상(종관, ASOS) 시간자료 조회서비스<br>https://www.data.go.kr/tcs/dss/selectApiDataDetailView.do?publicDataPk=15057210"
   ]
  },
  {
   "cell_type": "markdown",
   "metadata": {},
   "source": [
    "- 발전량에 영향을 주는 변수들 이외의 변수 제외\n",
    "- 강수량, 적설량, 일사량, 일조량 결측치 0.0값으로 대체\n",
    "- 전운량 결측치 선형보간"
   ]
  },
  {
   "cell_type": "code",
   "execution_count": 1,
   "metadata": {
    "id": "x6ngVKsNIhnD"
   },
   "outputs": [],
   "source": [
    "from datetime import datetime\n",
    "from time import time\n",
    "import pandas as pd\n",
    "import numpy as np\n",
    "pd.set_option('display.max_columns', 100)\n",
    "pd.set_option('display.max_rows', 100)\n",
    "from tqdm.notebook import tqdm\n",
    "import matplotlib.pyplot as plt\n",
    "import seaborn as sns\n",
    "import missingno as msno\n",
    "import urllib\n",
    "from urllib.request import urlopen\n",
    "import json\n",
    "import pickle\n",
    "from urllib.parse import quote_plus, urlencode"
   ]
  },
  {
   "cell_type": "code",
   "execution_count": 2,
   "metadata": {
    "id": "-hmqSn0nImun"
   },
   "outputs": [],
   "source": [
    "url = 'http://apis.data.go.kr/1360000/AsosHourlyInfoService/getWthrDataList'\n",
    "ServiceKey1 = 'tqpC08yZYskkrG+Mj0oJltcqQllRMp1DNStXHGZI5UiJ27ANO6F8hEr0uYp9i1Dza1CbxkbUvC3qfo/U/t0/HQ=='\n",
    "ServiceKey2 = 'tqpC08yZYskkrG%2BMj0oJltcqQllRMp1DNStXHGZI5UiJ27ANO6F8hEr0uYp9i1Dza1CbxkbUvC3qfo%2FU%2Ft0%2FHQ%3D%3D'\n",
    "\n",
    "queryParams = '?' + urllib.parse.urlencode({quote_plus('ServiceKey') : ServiceKey1,\n",
    "                                        quote_plus('pageNo') : '1',\n",
    "                                        quote_plus('numOfRows') : '1', \n",
    "                                        quote_plus('dataType') : 'JSON', \n",
    "                                        quote_plus('dataCd') : 'ASOS', \n",
    "                                        quote_plus('dateCd') : 'HR', \n",
    "                                        quote_plus('startDt') : '20170101', \n",
    "                                        quote_plus('startHh') : '01', \n",
    "                                        quote_plus('endDt') : '20170701', \n",
    "                                        quote_plus('endHh') : '02', \n",
    "                                        quote_plus('stnIds') : '192'})\n",
    "response = urlopen(url + queryParams).read()\n",
    "response = json.loads(response)"
   ]
  },
  {
   "cell_type": "code",
   "execution_count": 3,
   "metadata": {},
   "outputs": [],
   "source": [
    "col_list = list(response['response']['body']['items']['item'][0].keys())\n",
    "col_map = {'tm': 'time', 'stnNm': 'loc_name', 'stnId': 'loc_num', 'ta': 'temp', 'rn': 'precipitation', \n",
    "           'ws': 'wind_speed', 'wd': 'wind_direction', 'hm': 'humidity', 'pv': 'pressure_vapor', 'td': 'dew_point', \n",
    "           'pa': 'pressure_local', 'ps': 'pressure_sea', 'ss': 'sunshine', 'icsr': 'radiation', 'dsnw': 'snow', \n",
    "           'dc10Tca': 'cloud', 'vs': 'air_opacity', 'ts': 'temp_surf', \n",
    "           'm005Te': 'temp_5cm', 'm01Te': 'temp_10cm', 'm02Te': 'temp_20cm', 'm03Te': 'temp_30cm'}\n",
    "col_list = ['time', 'loc_num', 'loc_name', 'temp', 'precipitation', 'wind_speed', 'wind_direction', 'humidity',\n",
    "            'pressure_vapor', 'dew_point', 'pressure_local', 'pressure_sea', 'sunshine','radiation', 'snow', 'cloud', \n",
    "            'air_opacity', 'temp_surf', 'temp_5cm', 'temp_10cm', 'temp_20cm', 'temp_30cm']\n",
    "col_float_list = ['temp', 'precipitation', 'wind_speed', 'wind_direction', 'humidity',\n",
    "            'pressure_vapor', 'dew_point', 'pressure_local', 'pressure_sea', 'sunshine','radiation', 'snow', 'cloud', \n",
    "            'air_opacity', 'temp_surf', 'temp_5cm', 'temp_10cm', 'temp_20cm', 'temp_30cm']"
   ]
  },
  {
   "cell_type": "code",
   "execution_count": 4,
   "metadata": {},
   "outputs": [],
   "source": [
    "# 기상청에서 1000row 이상의 데이터를 가져오지 못하므로 960(24*40)개씩 가져오기 위한 코드    \n",
    "def make_sub_array(start_date, location):\n",
    "    queryParams = '?' + urllib.parse.urlencode({quote_plus('ServiceKey') : ServiceKey1,\n",
    "                                            quote_plus('pageNo') : '1',\n",
    "                                            quote_plus('numOfRows') : '960', \n",
    "                                            quote_plus('dataType') : 'JSON', \n",
    "                                            quote_plus('dataCd') : 'ASOS', \n",
    "                                            quote_plus('dateCd') : 'HR', \n",
    "                                            quote_plus('startDt') : start_date, \n",
    "                                            quote_plus('startHh') : '01', \n",
    "                                            quote_plus('endDt') : datetime.strftime(\n",
    "                                                pd.to_datetime(start_date)+pd.DateOffset(hours=960), '%Y%m%d'), \n",
    "                                            quote_plus('endHh') : '00', \n",
    "                                            quote_plus('stnIds') : location})\n",
    "    response = urlopen(url + queryParams).read()\n",
    "    response = json.loads(response)\n",
    "    \n",
    "    if response['response']['header']['resultMsg']==('NO_DATA'):\n",
    "        return 'NoData'\n",
    "    for i, data in enumerate(response['response']['body']['items']['item']):\n",
    "        if i==0:\n",
    "            obs_array = np.delete(np.array(list(data.values())), \n",
    "                                  [1, 5, 7, 9, 11, 13, 17, 19, 21, 24, 26, 27, 28, 30, 31, 33]).reshape(-1, 1)\n",
    "        else:\n",
    "            obs_array = np.hstack([obs_array, np.delete(np.array(list(data.values())),\n",
    "                                  [1, 5, 7, 9, 11, 13, 17, 19, 21, 24, 26, 27, 28, 30, 31, 33]).reshape(-1, 1)])\n",
    "        \n",
    "    return obs_array.T"
   ]
  },
  {
   "cell_type": "code",
   "execution_count": 5,
   "metadata": {},
   "outputs": [],
   "source": [
    "start_date_list = list(pd.date_range(start='20170101 01:00:00', end='20200701 00:00:00', freq='960H').astype(str))\n",
    "for i, date in enumerate(start_date_list):\n",
    "    start_date_list[i] = date.split(' ')[0].replace('-', '')"
   ]
  },
  {
   "cell_type": "code",
   "execution_count": 15,
   "metadata": {},
   "outputs": [],
   "source": [
    "def make_df(location):\n",
    "    obs_array = make_sub_array(start_date_list[0], location)\n",
    "    if type(obs_array)==str:\n",
    "        return 'NoData'\n",
    "    sentence = ' ' + obs_array[0][2] + ' 기상 데이터 크롤링 진행 '\n",
    "    print(f'{sentence:=^56}')\n",
    "    for i, date in enumerate(tqdm(start_date_list[1:])):\n",
    "        obs_array = np.vstack([obs_array, make_sub_array(date, location)])\n",
    "        \n",
    "    obs_array[:, [4, 12, 13, 14]] = np.where(obs_array[:, [4, 12, 13, 14]]=='', 0.0, obs_array[:, [4, 12, 13, 14]])\n",
    "    obs_array = np.where(obs_array=='', np.nan, obs_array)\n",
    "    \n",
    "    obs_df = pd.DataFrame(obs_array, columns=col_list)\n",
    "    obs_df[col_float_list] = obs_df[col_float_list].astype('float16')\n",
    "    obs_df['time'] = pd.to_datetime(obs_df['time'])\n",
    "    obs_df[['cloud']] = obs_df[['cloud']].interpolate()\n",
    "    \n",
    "#     obs_df_total = obs_df_total.reset_index(drop=True)\n",
    "#     obs_df_total = obs_df_total[obs_df_total['location_number'].isna()!=True].reset_index(drop=True)\n",
    "#     #obs_df_total = obs_df_total.drop(\n",
    "#     #    list(obs_df_total.isna().sum()[obs_df_total.isna().sum()>=len(obs_df_total)/3].index), axis=1)\n",
    "#     #obs_df_total.dropna(inplace=True)\n",
    "#     obs_df_total = obs_df_total.reset_index(drop=True)\n",
    "#     obs_df_total.iloc[:, 4:] = obs_df_total.iloc[:, 4:].astype('float16')\n",
    "    return obs_df"
   ]
  },
  {
   "cell_type": "code",
   "execution_count": 16,
   "metadata": {},
   "outputs": [],
   "source": [
    "# with open('../pkl/obs_dict.pickle', 'rb') as fw:\n",
    "#     obs_dict_local = pickle.load(fw)"
   ]
  },
  {
   "cell_type": "markdown",
   "metadata": {},
   "source": [
    "# 로컬 데이터 크롤링"
   ]
  },
  {
   "cell_type": "code",
   "execution_count": 30,
   "metadata": {},
   "outputs": [],
   "source": [
    "obs_dict_local = {}\n",
    "obs_dict_local_list = [105, 129, 192]"
   ]
  },
  {
   "cell_type": "code",
   "execution_count": 31,
   "metadata": {},
   "outputs": [
    {
     "name": "stdout",
     "output_type": "stream",
     "text": [
      "=================== 강릉 기상 데이터 크롤링 진행 ===================\n"
     ]
    },
    {
     "data": {
      "application/vnd.jupyter.widget-view+json": {
       "model_id": "5d8cb852272e4332a8025eb5f2128362",
       "version_major": 2,
       "version_minor": 0
      },
      "text/plain": [
       "  0%|          | 0/31 [00:00<?, ?it/s]"
      ]
     },
     "metadata": {},
     "output_type": "display_data"
    },
    {
     "name": "stdout",
     "output_type": "stream",
     "text": [
      "=================== 서산 기상 데이터 크롤링 진행 ===================\n"
     ]
    },
    {
     "data": {
      "application/vnd.jupyter.widget-view+json": {
       "model_id": "2daa520f3ef74003a93e23b036b59058",
       "version_major": 2,
       "version_minor": 0
      },
      "text/plain": [
       "  0%|          | 0/31 [00:00<?, ?it/s]"
      ]
     },
     "metadata": {},
     "output_type": "display_data"
    },
    {
     "name": "stdout",
     "output_type": "stream",
     "text": [
      "=================== 진주 기상 데이터 크롤링 진행 ===================\n"
     ]
    },
    {
     "data": {
      "application/vnd.jupyter.widget-view+json": {
       "model_id": "8ed5cdea7448453f9fd723246a39b7b2",
       "version_major": 2,
       "version_minor": 0
      },
      "text/plain": [
       "  0%|          | 0/31 [00:00<?, ?it/s]"
      ]
     },
     "metadata": {},
     "output_type": "display_data"
    }
   ],
   "source": [
    "for loc_num in obs_dict_local_list: # 강릉, \n",
    "    obs_dict_local[loc_num] = make_df(str(loc_num))"
   ]
  },
  {
   "cell_type": "code",
   "execution_count": 19,
   "metadata": {},
   "outputs": [],
   "source": [
    "with open('../pkl/obs_dict_local.pickle','wb') as fw:\n",
    "    pickle.dump(obs_dict_local, fw)"
   ]
  },
  {
   "cell_type": "markdown",
   "metadata": {},
   "source": [
    "# 글로벌 데이터 크롤링"
   ]
  },
  {
   "cell_type": "code",
   "execution_count": null,
   "metadata": {},
   "outputs": [],
   "source": [
    "obs_dict_global = {}\n",
    "obs_dict_global_list = np.setdiff1d(np.arange(90, 296), [105, 129, 152, 175, 192])\n",
    "for loc_num in tqdm(obs_dict_global_list): # 전체\n",
    "    obs_dict_global[loc_num] = make_df(str(loc_num))"
   ]
  },
  {
   "cell_type": "code",
   "execution_count": 27,
   "metadata": {},
   "outputs": [
    {
     "data": {
      "application/vnd.jupyter.widget-view+json": {
       "model_id": "ba02c470c48d412da2a77648f9abbcd4",
       "version_major": 2,
       "version_minor": 0
      },
      "text/plain": [
       "  0%|          | 0/35 [00:00<?, ?it/s]"
      ]
     },
     "metadata": {},
     "output_type": "display_data"
    },
    {
     "name": "stdout",
     "output_type": "stream",
     "text": [
      "=================== 해남 기상 데이터 크롤링 진행 ===================\n"
     ]
    },
    {
     "data": {
      "application/vnd.jupyter.widget-view+json": {
       "model_id": "e73befb3f10b40158f555cf5b58269a5",
       "version_major": 2,
       "version_minor": 0
      },
      "text/plain": [
       "  0%|          | 0/31 [00:00<?, ?it/s]"
      ]
     },
     "metadata": {},
     "output_type": "display_data"
    },
    {
     "name": "stdout",
     "output_type": "stream",
     "text": [
      "=================== 고흥 기상 데이터 크롤링 진행 ===================\n"
     ]
    },
    {
     "data": {
      "application/vnd.jupyter.widget-view+json": {
       "model_id": "dea45a157fca421d8bf8c4c54b6ca89a",
       "version_major": 2,
       "version_minor": 0
      },
      "text/plain": [
       "  0%|          | 0/31 [00:00<?, ?it/s]"
      ]
     },
     "metadata": {},
     "output_type": "display_data"
    },
    {
     "name": "stdout",
     "output_type": "stream",
     "text": [
      "================== 의령군 기상 데이터 크롤링 진행 ===================\n"
     ]
    },
    {
     "data": {
      "application/vnd.jupyter.widget-view+json": {
       "model_id": "f5e58cc36e8b46e290f9e0570a5b4eda",
       "version_major": 2,
       "version_minor": 0
      },
      "text/plain": [
       "  0%|          | 0/31 [00:00<?, ?it/s]"
      ]
     },
     "metadata": {},
     "output_type": "display_data"
    },
    {
     "name": "stdout",
     "output_type": "stream",
     "text": [
      "================== 함양군 기상 데이터 크롤링 진행 ===================\n"
     ]
    },
    {
     "data": {
      "application/vnd.jupyter.widget-view+json": {
       "model_id": "464a9e78b05d486eb443f956e75a0f0b",
       "version_major": 2,
       "version_minor": 0
      },
      "text/plain": [
       "  0%|          | 0/31 [00:00<?, ?it/s]"
      ]
     },
     "metadata": {},
     "output_type": "display_data"
    },
    {
     "name": "stdout",
     "output_type": "stream",
     "text": [
      "================== 광양시 기상 데이터 크롤링 진행 ===================\n"
     ]
    },
    {
     "data": {
      "application/vnd.jupyter.widget-view+json": {
       "model_id": "8100188c91b8491bb02f5a83bcae6017",
       "version_major": 2,
       "version_minor": 0
      },
      "text/plain": [
       "  0%|          | 0/31 [00:00<?, ?it/s]"
      ]
     },
     "metadata": {},
     "output_type": "display_data"
    },
    {
     "name": "stdout",
     "output_type": "stream",
     "text": [
      "================== 진도군 기상 데이터 크롤링 진행 ===================\n"
     ]
    },
    {
     "data": {
      "application/vnd.jupyter.widget-view+json": {
       "model_id": "6ba70b5e17ed45fa82b48aba10e93f56",
       "version_major": 2,
       "version_minor": 0
      },
      "text/plain": [
       "  0%|          | 0/31 [00:00<?, ?it/s]"
      ]
     },
     "metadata": {},
     "output_type": "display_data"
    },
    {
     "name": "stdout",
     "output_type": "stream",
     "text": [
      "=================== 봉화 기상 데이터 크롤링 진행 ===================\n"
     ]
    },
    {
     "data": {
      "application/vnd.jupyter.widget-view+json": {
       "model_id": "434d438ac7e04f7c841099b7e3ac0e93",
       "version_major": 2,
       "version_minor": 0
      },
      "text/plain": [
       "  0%|          | 0/31 [00:00<?, ?it/s]"
      ]
     },
     "metadata": {},
     "output_type": "display_data"
    },
    {
     "name": "stdout",
     "output_type": "stream",
     "text": [
      "=================== 영주 기상 데이터 크롤링 진행 ===================\n"
     ]
    },
    {
     "data": {
      "application/vnd.jupyter.widget-view+json": {
       "model_id": "0c69b655ec334cd8b80a0fe492ecbaa4",
       "version_major": 2,
       "version_minor": 0
      },
      "text/plain": [
       "  0%|          | 0/31 [00:00<?, ?it/s]"
      ]
     },
     "metadata": {},
     "output_type": "display_data"
    },
    {
     "name": "stdout",
     "output_type": "stream",
     "text": [
      "=================== 문경 기상 데이터 크롤링 진행 ===================\n"
     ]
    },
    {
     "data": {
      "application/vnd.jupyter.widget-view+json": {
       "model_id": "44026b1b702849508af77efbcfd39642",
       "version_major": 2,
       "version_minor": 0
      },
      "text/plain": [
       "  0%|          | 0/31 [00:00<?, ?it/s]"
      ]
     },
     "metadata": {},
     "output_type": "display_data"
    },
    {
     "name": "stdout",
     "output_type": "stream",
     "text": [
      "================== 청송군 기상 데이터 크롤링 진행 ===================\n"
     ]
    },
    {
     "data": {
      "application/vnd.jupyter.widget-view+json": {
       "model_id": "3109aeac260a4b37823be5a4c481d199",
       "version_major": 2,
       "version_minor": 0
      },
      "text/plain": [
       "  0%|          | 0/31 [00:00<?, ?it/s]"
      ]
     },
     "metadata": {},
     "output_type": "display_data"
    },
    {
     "name": "stdout",
     "output_type": "stream",
     "text": [
      "=================== 영덕 기상 데이터 크롤링 진행 ===================\n"
     ]
    },
    {
     "data": {
      "application/vnd.jupyter.widget-view+json": {
       "model_id": "1b9976e5adcd41b589a878d997d34052",
       "version_major": 2,
       "version_minor": 0
      },
      "text/plain": [
       "  0%|          | 0/31 [00:00<?, ?it/s]"
      ]
     },
     "metadata": {},
     "output_type": "display_data"
    },
    {
     "name": "stdout",
     "output_type": "stream",
     "text": [
      "=================== 의성 기상 데이터 크롤링 진행 ===================\n"
     ]
    },
    {
     "data": {
      "application/vnd.jupyter.widget-view+json": {
       "model_id": "4776f1d3c44e49ba8ff50d2ebc5816db",
       "version_major": 2,
       "version_minor": 0
      },
      "text/plain": [
       "  0%|          | 0/31 [00:00<?, ?it/s]"
      ]
     },
     "metadata": {},
     "output_type": "display_data"
    },
    {
     "name": "stdout",
     "output_type": "stream",
     "text": [
      "=================== 구미 기상 데이터 크롤링 진행 ===================\n"
     ]
    },
    {
     "data": {
      "application/vnd.jupyter.widget-view+json": {
       "model_id": "04b6d71799cd49dfb5c603a8e492b5f7",
       "version_major": 2,
       "version_minor": 0
      },
      "text/plain": [
       "  0%|          | 0/31 [00:00<?, ?it/s]"
      ]
     },
     "metadata": {},
     "output_type": "display_data"
    },
    {
     "name": "stdout",
     "output_type": "stream",
     "text": [
      "=================== 영천 기상 데이터 크롤링 진행 ===================\n"
     ]
    },
    {
     "data": {
      "application/vnd.jupyter.widget-view+json": {
       "model_id": "f9c45a2e636f4448b33323f35304359e",
       "version_major": 2,
       "version_minor": 0
      },
      "text/plain": [
       "  0%|          | 0/31 [00:00<?, ?it/s]"
      ]
     },
     "metadata": {},
     "output_type": "display_data"
    },
    {
     "name": "stdout",
     "output_type": "stream",
     "text": [
      "================== 경주시 기상 데이터 크롤링 진행 ===================\n"
     ]
    },
    {
     "data": {
      "application/vnd.jupyter.widget-view+json": {
       "model_id": "76051bf370aa4d7f926e7a9b199c4521",
       "version_major": 2,
       "version_minor": 0
      },
      "text/plain": [
       "  0%|          | 0/31 [00:00<?, ?it/s]"
      ]
     },
     "metadata": {},
     "output_type": "display_data"
    },
    {
     "name": "stdout",
     "output_type": "stream",
     "text": [
      "=================== 거창 기상 데이터 크롤링 진행 ===================\n"
     ]
    },
    {
     "data": {
      "application/vnd.jupyter.widget-view+json": {
       "model_id": "c8b9135dc60c4a05bc9b4f4bc7390fcf",
       "version_major": 2,
       "version_minor": 0
      },
      "text/plain": [
       "  0%|          | 0/31 [00:00<?, ?it/s]"
      ]
     },
     "metadata": {},
     "output_type": "display_data"
    },
    {
     "name": "stdout",
     "output_type": "stream",
     "text": [
      "=================== 합천 기상 데이터 크롤링 진행 ===================\n"
     ]
    },
    {
     "data": {
      "application/vnd.jupyter.widget-view+json": {
       "model_id": "f9bbaab8c45e486f97742b4d21c52259",
       "version_major": 2,
       "version_minor": 0
      },
      "text/plain": [
       "  0%|          | 0/31 [00:00<?, ?it/s]"
      ]
     },
     "metadata": {},
     "output_type": "display_data"
    },
    {
     "name": "stdout",
     "output_type": "stream",
     "text": [
      "=================== 밀양 기상 데이터 크롤링 진행 ===================\n"
     ]
    },
    {
     "data": {
      "application/vnd.jupyter.widget-view+json": {
       "model_id": "58296211dc2948ecaae96495cf282cfb",
       "version_major": 2,
       "version_minor": 0
      },
      "text/plain": [
       "  0%|          | 0/31 [00:00<?, ?it/s]"
      ]
     },
     "metadata": {},
     "output_type": "display_data"
    },
    {
     "name": "stdout",
     "output_type": "stream",
     "text": [
      "=================== 산청 기상 데이터 크롤링 진행 ===================\n"
     ]
    },
    {
     "data": {
      "application/vnd.jupyter.widget-view+json": {
       "model_id": "30ac25e5c4fb42b58f52c4c547db34e0",
       "version_major": 2,
       "version_minor": 0
      },
      "text/plain": [
       "  0%|          | 0/31 [00:00<?, ?it/s]"
      ]
     },
     "metadata": {},
     "output_type": "display_data"
    },
    {
     "name": "stdout",
     "output_type": "stream",
     "text": [
      "=================== 거제 기상 데이터 크롤링 진행 ===================\n"
     ]
    },
    {
     "data": {
      "application/vnd.jupyter.widget-view+json": {
       "model_id": "655eda7313d44093afb61b0fbf17748d",
       "version_major": 2,
       "version_minor": 0
      },
      "text/plain": [
       "  0%|          | 0/31 [00:00<?, ?it/s]"
      ]
     },
     "metadata": {},
     "output_type": "display_data"
    },
    {
     "name": "stdout",
     "output_type": "stream",
     "text": [
      "=================== 남해 기상 데이터 크롤링 진행 ===================\n"
     ]
    },
    {
     "data": {
      "application/vnd.jupyter.widget-view+json": {
       "model_id": "68a1256456ca46e0ab06d04fac323fc1",
       "version_major": 2,
       "version_minor": 0
      },
      "text/plain": [
       "  0%|          | 0/31 [00:00<?, ?it/s]"
      ]
     },
     "metadata": {},
     "output_type": "display_data"
    }
   ],
   "source": [
    "obs_dict_global_list = np.setdiff1d(np.arange(261, 296), [105, 129, 152, 175, 192])\n",
    "for loc_num in tqdm(obs_dict_global_list): # 전체\n",
    "    obs_dict_global[loc_num] = make_df(str(loc_num))"
   ]
  },
  {
   "cell_type": "code",
   "execution_count": 29,
   "metadata": {},
   "outputs": [],
   "source": [
    "with open('../pkl/obs_dict_global.pickle','wb') as fw:\n",
    "    pickle.dump(obs_dict_global, fw)"
   ]
  },
  {
   "cell_type": "markdown",
   "metadata": {},
   "source": [
    "# ==========================================================="
   ]
  },
  {
   "cell_type": "markdown",
   "metadata": {},
   "source": [
    "# ==========================================================="
   ]
  },
  {
   "cell_type": "markdown",
   "metadata": {},
   "source": [
    "# ==========================================================="
   ]
  },
  {
   "cell_type": "markdown",
   "metadata": {},
   "source": [
    "# ==========================================================="
   ]
  },
  {
   "cell_type": "markdown",
   "metadata": {},
   "source": [
    "# Removed Code"
   ]
  },
  {
   "cell_type": "code",
   "execution_count": null,
   "metadata": {},
   "outputs": [],
   "source": [
    "# 기상청에서 1000row 이상의 데이터를 가져오지 못하므로 960(24*40)개씩 가져오기 위한 코드    \n",
    "def make_sub_df(start_date, location):\n",
    "    queryParams = '?' + urllib.parse.urlencode({quote_plus('ServiceKey') : ServiceKey1,\n",
    "                                            quote_plus('pageNo') : '1',\n",
    "                                            quote_plus('numOfRows') : '960', \n",
    "                                            quote_plus('dataType') : 'JSON', \n",
    "                                            quote_plus('dataCd') : 'ASOS', \n",
    "                                            quote_plus('dateCd') : 'HR', \n",
    "                                            quote_plus('startDt') : start_date, \n",
    "                                            quote_plus('startHh') : '01', \n",
    "                                            quote_plus('endDt') : '20200701', \n",
    "                                            quote_plus('endHh') : '00', \n",
    "                                            quote_plus('stnIds') : location})\n",
    "    response = urlopen(url + queryParams).read()\n",
    "    response = json.loads(response)\n",
    "    if response['response']['header']['resultMsg']==('NO_DATA'):\n",
    "        return 0\n",
    "    obs_df = pd.DataFrame()\n",
    "    obs_df['time'] = pd.date_range(start=start_date+' 01:00:00', periods=960, freq='H') # 날짜 컬럼 생성\n",
    "    for i, data in enumerate(response['response']['body']['items']['item']):\n",
    "        obs_df.loc[i, 'location_number'] = data['stnId']\n",
    "        obs_df.loc[i, 'location_name'] = data['stnNm']\n",
    "        obs_df.loc[i, 'cloud_type'] = data['clfmAbbrCd'] # 운형\n",
    "        obs_df.loc[i, 'temp'] = data['ta'] # 온도\n",
    "        obs_df.loc[i, 'temp_30cm'] = data['m03Te'] # 30cm 지중온도\n",
    "        obs_df.loc[i, 'temp_20cm'] = data['m02Te'] # 20cm 지중온도\n",
    "        obs_df.loc[i, 'temp_10cm'] = data['m01Te'] # 10cm 지중온도\n",
    "        obs_df.loc[i, 'temp_5cm'] = data['m005Te'] # 5cm 지중온도\n",
    "        obs_df.loc[i, 'temp_surf'] = data['ts'] # 지면온도\n",
    "        obs_df.loc[i, 'dew_point'] = data['td'] # 이슬점온도\n",
    "        obs_df.loc[i, 'cloud_low'] = data['dc10LmcsCa'] # 중하층운량\n",
    "        obs_df.loc[i, 'cloud_all'] = data['dc10Tca'] # 전운량, 선형보간\n",
    "        obs_df.loc[i, 'snow'] = data['dsnw'] # 적설량\n",
    "        obs_df.loc[i, 'radiation'] = data['dc10LmcsCa'] # 일사량\n",
    "        obs_df.loc[i, 'sunshine'] = data['ss'] # 일조량\n",
    "        obs_df.loc[i, 'pressure_sea'] = data['ps'] # 해면기압\n",
    "        obs_df.loc[i, 'pressure_local'] = data['pa'] # 현지기압\n",
    "        obs_df.loc[i, 'pressure_vapor'] = data['pv'] # 증기압\n",
    "        obs_df.loc[i, 'humidity'] = data['hm'] # 습도\n",
    "        obs_df.loc[i, 'wind_direction'] = data['wd'] # 풍향\n",
    "        obs_df.loc[i, 'wind_speed'] = data['ws'] # 풍속\n",
    "        obs_df.loc[i, 'precipitation'] = data['rn'] # 강수량\n",
    "        \n",
    "        # 전처리\n",
    "        obs_df.loc[:, 'cloud_type'] = obs_df['cloud_type'].replace('', 'Def')\n",
    "        obs_df.loc[:, 'cloud_all'] = obs_df['cloud_all'].replace('', np.nan).interpolate().fillna(0)\n",
    "        obs_df.loc[:, ['snow', 'sunshine', 'precipitation']] = \\\n",
    "                            obs_df[['snow', 'sunshine', 'precipitation']].replace('', 0)\n",
    "        obs_df.iloc[:, 4:] = obs_df.replace('', np.nan).iloc[:, 4:]\n",
    "        \n",
    "    return obs_df"
   ]
  },
  {
   "cell_type": "code",
   "execution_count": null,
   "metadata": {},
   "outputs": [],
   "source": [
    "def make_df(location):\n",
    "    obs_df_total = make_sub_df(start_date_list[0], location)\n",
    "    if type(obs_df_total)!=pd.DataFrame:\n",
    "        return None\n",
    "    for i, date in enumerate(tqdm(start_date_list[1:])):\n",
    "        obs_df_total = pd.concat([obs_df_total, make_sub_df(start_date_list[i], location)])\n",
    "    obs_df_total = obs_df_total.reset_index(drop=True)\n",
    "    obs_df_total = obs_df_total[obs_df_total['location_number'].isna()!=True].reset_index(drop=True)\n",
    "    #obs_df_total = obs_df_total.drop(\n",
    "    #    list(obs_df_total.isna().sum()[obs_df_total.isna().sum()>=len(obs_df_total)/3].index), axis=1)\n",
    "    #obs_df_total.dropna(inplace=True)\n",
    "    obs_df_total = obs_df_total.reset_index(drop=True)\n",
    "    obs_df_total.iloc[:, 4:] = obs_df_total.iloc[:, 4:].astype('float16')\n",
    "    return obs_df_total"
   ]
  }
 ],
 "metadata": {
  "colab": {
   "authorship_tag": "ABX9TyNu2RM5sq+IgGi5Ebl5MKW7",
   "collapsed_sections": [],
   "include_colab_link": true,
   "mount_file_id": "1LEHoX8vENlJtGxsG19CH-nmGe9vgQs76",
   "name": "동네예보 API",
   "provenance": []
  },
  "kernelspec": {
   "display_name": "Python 3",
   "language": "python",
   "name": "python3"
  }
 },
 "nbformat": 4,
 "nbformat_minor": 1
}
